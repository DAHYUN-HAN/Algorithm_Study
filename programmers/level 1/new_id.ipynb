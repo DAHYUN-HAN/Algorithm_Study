{
 "cells": [
  {
   "cell_type": "code",
   "execution_count": 43,
   "metadata": {},
   "outputs": [],
   "source": [
    "def solution(new_id):\n",
    "    new_id = new_id.lower()\n",
    "    temp_id = ''\n",
    "    \n",
    "        \n",
    "    new_id = second(new_id)\n",
    "    new_id = third(new_id)\n",
    "    new_id = fourth(new_id)\n",
    "    new_id = fifth(new_id)\n",
    "    new_id = sixth(new_id)\n",
    "    new_id = seventh(new_id)\n",
    "    return new_id\n",
    "\n",
    "def second(new_id):\n",
    "    temp_id = ''\n",
    "    for i in new_id:\n",
    "        if(not i.isalpha() and not i.isdigit()):\n",
    "            if(i == '-' or i =='_' or i =='.'):\n",
    "                temp_id += i\n",
    "        else:\n",
    "            temp_id += i\n",
    "    return temp_id\n",
    "\n",
    "def third(new_id):\n",
    "    temp_id = ''\n",
    "    for i in range(len(new_id)):\n",
    "        if(i == 0):\n",
    "            temp_id += new_id[i]\n",
    "            continue\n",
    "            \n",
    "        if(new_id[i] == '.'):\n",
    "            if(temp_id[-1] == '.'):\n",
    "                continue\n",
    "            else:\n",
    "                temp_id += new_id[i]\n",
    "        else:\n",
    "            temp_id += new_id[i]\n",
    "    return temp_id\n",
    "\n",
    "def fourth(new_id):\n",
    "    if(len(new_id)):\n",
    "        if(new_id[0] == '.'):\n",
    "            new_id = new_id[1:]\n",
    "    if(len(new_id)):\n",
    "        if(new_id[-1] == '.'):\n",
    "            new_id = new_id[:-1]\n",
    "    return new_id\n",
    "\n",
    "def fifth(new_id):\n",
    "    if(len(new_id) == 0):\n",
    "        new_id = 'a'\n",
    "    return new_id\n",
    "\n",
    "def sixth(new_id):\n",
    "    if(len(new_id) > 15):\n",
    "        new_id = new_id[:15]\n",
    "        if(new_id[-1] == '.'):\n",
    "            new_id = new_id[:-1]\n",
    "    return new_id\n",
    "\n",
    "def seventh(new_id):\n",
    "    while(len(new_id) < 3):\n",
    "        new_id += new_id[-1]\n",
    "    return new_id"
   ]
  },
  {
   "cell_type": "code",
   "execution_count": 44,
   "metadata": {},
   "outputs": [
    {
     "data": {
      "text/plain": [
       "'aaa'"
      ]
     },
     "execution_count": 44,
     "metadata": {},
     "output_type": "execute_result"
    }
   ],
   "source": [
    "solution('...!@BaT#*..y.abcdefghi.jklm..')\n",
    "solution('=.=')"
   ]
  },
  {
   "cell_type": "code",
   "execution_count": 8,
   "metadata": {},
   "outputs": [
    {
     "data": {
      "text/plain": [
       "False"
      ]
     },
     "execution_count": 8,
     "metadata": {},
     "output_type": "execute_result"
    }
   ],
   "source": [
    "'.'.isalpha()"
   ]
  },
  {
   "cell_type": "code",
   "execution_count": 7,
   "metadata": {},
   "outputs": [
    {
     "data": {
      "text/plain": [
       "True"
      ]
     },
     "execution_count": 7,
     "metadata": {},
     "output_type": "execute_result"
    }
   ],
   "source": [
    "'1'.isdigit()"
   ]
  },
  {
   "cell_type": "code",
   "execution_count": null,
   "metadata": {},
   "outputs": [],
   "source": []
  }
 ],
 "metadata": {
  "kernelspec": {
   "display_name": "Python 3",
   "language": "python",
   "name": "python3"
  },
  "language_info": {
   "codemirror_mode": {
    "name": "ipython",
    "version": 3
   },
   "file_extension": ".py",
   "mimetype": "text/x-python",
   "name": "python",
   "nbconvert_exporter": "python",
   "pygments_lexer": "ipython3",
   "version": "3.8.5"
  }
 },
 "nbformat": 4,
 "nbformat_minor": 4
}
