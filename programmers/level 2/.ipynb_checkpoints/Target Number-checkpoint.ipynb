{
 "cells": [
  {
   "cell_type": "code",
   "execution_count": 71,
   "metadata": {},
   "outputs": [],
   "source": [
    "def solution(numbers, target):\n",
    "    global answer\n",
    "    answer = 0\n",
    "    \n",
    "    get_result(numbers, 0, 0, target)\n",
    "         \n",
    "    return answer\n",
    "\n",
    "def get_result(numbers, result, index, target):\n",
    "    global answer\n",
    "    if(index < len(numbers)):\n",
    "        get_result(numbers, result+numbers[index], index+1, target)\n",
    "        get_result(numbers, result-numbers[index], index+1, target)\n",
    "    else:\n",
    "        if(result == target):\n",
    "            \n",
    "            answer += 1"
   ]
  },
  {
   "cell_type": "code",
   "execution_count": 72,
   "metadata": {},
   "outputs": [
    {
     "data": {
      "text/plain": [
       "5"
      ]
     },
     "execution_count": 72,
     "metadata": {},
     "output_type": "execute_result"
    }
   ],
   "source": [
    "solution([1, 1, 1, 1, 1], 3)"
   ]
  }
 ],
 "metadata": {
  "kernelspec": {
   "display_name": "Python 3",
   "language": "python",
   "name": "python3"
  },
  "language_info": {
   "codemirror_mode": {
    "name": "ipython",
    "version": 3
   },
   "file_extension": ".py",
   "mimetype": "text/x-python",
   "name": "python",
   "nbconvert_exporter": "python",
   "pygments_lexer": "ipython3",
   "version": "3.8.5"
  }
 },
 "nbformat": 4,
 "nbformat_minor": 4
}
