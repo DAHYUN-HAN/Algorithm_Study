{
 "cells": [
  {
   "cell_type": "code",
   "execution_count": 82,
   "metadata": {},
   "outputs": [],
   "source": [
    "from itertools import combinations\n",
    "\n",
    "def solution(orders, course):\n",
    "    answer = []\n",
    "\n",
    "    for number in course:\n",
    "        menu_dict = {}\n",
    "        \n",
    "        for i in orders:\n",
    "            char_list = []\n",
    "            for char in i:\n",
    "                char_list.append(char)\n",
    "            char_combination = list(combinations(char_list, number))\n",
    "            for combination in char_combination:\n",
    "                combination = sorted(combination)\n",
    "                temp  = ''.join(combination)\n",
    "                if(temp in menu_dict):\n",
    "                    menu_dict[temp] += 1\n",
    "                else:\n",
    "                    menu_dict[temp] = 1\n",
    "        if(menu_dict):            \n",
    "            menu_dict = sorted(menu_dict.items(), key=lambda x :x[1], reverse=True)\n",
    "            print(menu_dict)\n",
    "            max = menu_dict[0][1]\n",
    "            for i in menu_dict:\n",
    "                if(i[1] != max or max == 1):\n",
    "                    break\n",
    "                else:\n",
    "                    answer.append(i[0])\n",
    "            answer = sorted(answer)\n",
    "    return answer"
   ]
  },
  {
   "cell_type": "code",
   "execution_count": 83,
   "metadata": {},
   "outputs": [
    {
     "name": "stdout",
     "output_type": "stream",
     "text": [
      "[('AC', 4), ('CD', 3), ('CE', 3), ('DE', 3), ('BC', 2), ('BF', 2), ('BG', 2), ('CF', 2), ('CG', 2), ('FG', 2), ('AD', 2), ('AE', 2), ('AB', 1), ('AF', 1), ('AG', 1), ('AH', 1), ('CH', 1), ('DH', 1), ('EH', 1)]\n",
      "[('CDE', 3), ('BCF', 2), ('BCG', 2), ('BFG', 2), ('CFG', 2), ('ACD', 2), ('ACE', 2), ('ADE', 2), ('ABC', 1), ('ABF', 1), ('ABG', 1), ('ACF', 1), ('ACG', 1), ('AFG', 1), ('ACH', 1), ('ADH', 1), ('AEH', 1), ('CDH', 1), ('CEH', 1), ('DEH', 1)]\n",
      "[('BCFG', 2), ('ACDE', 2), ('ABCF', 1), ('ABCG', 1), ('ABFG', 1), ('ACFG', 1), ('ACDH', 1), ('ACEH', 1), ('ADEH', 1), ('CDEH', 1)]\n"
     ]
    },
    {
     "data": {
      "text/plain": [
       "['AC', 'ACDE', 'BCFG', 'CDE']"
      ]
     },
     "execution_count": 83,
     "metadata": {},
     "output_type": "execute_result"
    }
   ],
   "source": [
    "solution([\"ABCFG\", \"AC\", \"CDE\", \"ACDE\", \"BCFG\", \"ACDEH\"], [2,3,4])"
   ]
  },
  {
   "cell_type": "code",
   "execution_count": 84,
   "metadata": {},
   "outputs": [
    {
     "name": "stdout",
     "output_type": "stream",
     "text": [
      "[('AD', 3), ('CD', 3), ('AB', 2), ('AC', 2), ('AE', 2), ('DE', 2), ('XY', 2), ('XZ', 2), ('YZ', 2), ('BC', 1), ('BD', 1), ('BE', 1), ('CE', 1)]\n",
      "[('ACD', 2), ('ADE', 2), ('XYZ', 2), ('ABC', 1), ('ABD', 1), ('ABE', 1), ('ACE', 1), ('BCD', 1), ('BCE', 1), ('BDE', 1), ('CDE', 1)]\n",
      "[('ABCDE', 1)]\n"
     ]
    },
    {
     "data": {
      "text/plain": [
       "['ACD', 'AD', 'ADE', 'CD', 'XYZ']"
      ]
     },
     "execution_count": 84,
     "metadata": {},
     "output_type": "execute_result"
    }
   ],
   "source": [
    "solution([\"ABCDE\", \"AB\", \"CD\", \"ADE\", \"XYZ\", \"XYZ\", \"ACD\"], [2,3,5])"
   ]
  },
  {
   "cell_type": "code",
   "execution_count": 85,
   "metadata": {},
   "outputs": [
    {
     "name": "stdout",
     "output_type": "stream",
     "text": [
      "[('XY', 2), ('WX', 2), ('XZ', 1), ('YZ', 1), ('WY', 1), ('AW', 1), ('AX', 1)]\n",
      "[('XYZ', 1), ('WXY', 1), ('AWX', 1)]\n"
     ]
    },
    {
     "data": {
      "text/plain": [
       "['WX', 'XY']"
      ]
     },
     "execution_count": 85,
     "metadata": {},
     "output_type": "execute_result"
    }
   ],
   "source": [
    "solution([\"XYZ\", \"XWY\", \"WXA\"], [2,3,4])"
   ]
  },
  {
   "cell_type": "code",
   "execution_count": null,
   "metadata": {},
   "outputs": [],
   "source": []
  }
 ],
 "metadata": {
  "kernelspec": {
   "display_name": "Python 3",
   "language": "python",
   "name": "python3"
  },
  "language_info": {
   "codemirror_mode": {
    "name": "ipython",
    "version": 3
   },
   "file_extension": ".py",
   "mimetype": "text/x-python",
   "name": "python",
   "nbconvert_exporter": "python",
   "pygments_lexer": "ipython3",
   "version": "3.8.5"
  }
 },
 "nbformat": 4,
 "nbformat_minor": 4
}
