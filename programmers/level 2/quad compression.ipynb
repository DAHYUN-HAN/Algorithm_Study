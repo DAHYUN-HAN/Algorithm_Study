{
 "cells": [
  {
   "cell_type": "code",
   "execution_count": 73,
   "metadata": {},
   "outputs": [],
   "source": [
    "def solution(arr):\n",
    "    global count_0\n",
    "    global count_1\n",
    "    \n",
    "    count_0 = 0\n",
    "    count_1 = 0\n",
    "    \n",
    "    compression(arr)\n",
    "    \n",
    "    answer = [count_0, count_1]\n",
    "    return answer\n",
    "\n",
    "def make_top_left(arr):\n",
    "    new_array = []\n",
    "    for i in range(int(len(arr) / 2)):\n",
    "        inner_array = []\n",
    "        for j in range(int(len(arr[0]) / 2)):\n",
    "            inner_array.append(arr[i][j])\n",
    "        new_array.append(inner_array)\n",
    "    return new_array\n",
    "\n",
    "def make_top_right(arr):\n",
    "    new_array = []\n",
    "    for i in range(int(len(arr) / 2)):\n",
    "        inner_array = []\n",
    "        for j in range(int(len(arr[0]) / 2), len(arr[0])):\n",
    "            inner_array.append(arr[i][j])\n",
    "        new_array.append(inner_array)\n",
    "    return new_array\n",
    "\n",
    "def make_bottom_left(arr):\n",
    "    new_array = []\n",
    "    for i in range(int(len(arr) / 2), len(arr)):\n",
    "        inner_array = []\n",
    "        for j in range(int(len(arr[0]) / 2)):\n",
    "            inner_array.append(arr[i][j])\n",
    "        new_array.append(inner_array)\n",
    "    return new_array\n",
    "\n",
    "def make_bottom_right(arr):\n",
    "    new_array = []\n",
    "    for i in range(int(len(arr) / 2), len(arr)):\n",
    "        inner_array = []\n",
    "        for j in range(int(len(arr[0]) / 2), len(arr[0])):\n",
    "            inner_array.append(arr[i][j])\n",
    "        new_array.append(inner_array)\n",
    "    return new_array\n",
    "\n",
    "def compression(array):\n",
    "    global count_0\n",
    "    global count_1\n",
    "    \n",
    "    start = array[0][0]\n",
    "    check = True\n",
    "    for i in range(len(array)):\n",
    "        for j in range(len(array[0])):\n",
    "            if(array[i][j] != start):\n",
    "                check = False\n",
    "                break\n",
    "        if(not check):\n",
    "            compression(make_top_left(array))\n",
    "            compression(make_top_right(array))\n",
    "            compression(make_bottom_left(array))\n",
    "            compression(make_bottom_right(array))\n",
    "            break\n",
    "                \n",
    "    if(check):\n",
    "        if(start == 0):\n",
    "            count_0 += 1\n",
    "        else:\n",
    "            count_1 += 1"
   ]
  },
  {
   "cell_type": "code",
   "execution_count": 74,
   "metadata": {
    "scrolled": false
   },
   "outputs": [
    {
     "data": {
      "text/plain": [
       "[4, 9]"
      ]
     },
     "execution_count": 74,
     "metadata": {},
     "output_type": "execute_result"
    }
   ],
   "source": [
    "solution([[1,1,0,0],[1,0,0,0],[1,0,0,1],[1,1,1,1]])"
   ]
  },
  {
   "cell_type": "code",
   "execution_count": 75,
   "metadata": {},
   "outputs": [
    {
     "data": {
      "text/plain": [
       "[10, 15]"
      ]
     },
     "execution_count": 75,
     "metadata": {},
     "output_type": "execute_result"
    }
   ],
   "source": [
    "solution([[1,1,1,1,1,1,1,1],[0,1,1,1,1,1,1,1],[0,0,0,0,1,1,1,1],[0,1,0,0,1,1,1,1],[0,0,0,0,0,0,1,1],[0,0,0,0,0,0,0,1],[0,0,0,0,1,0,0,1],[0,0,0,0,1,1,1,1]])"
   ]
  }
 ],
 "metadata": {
  "kernelspec": {
   "display_name": "Python 3",
   "language": "python",
   "name": "python3"
  },
  "language_info": {
   "codemirror_mode": {
    "name": "ipython",
    "version": 3
   },
   "file_extension": ".py",
   "mimetype": "text/x-python",
   "name": "python",
   "nbconvert_exporter": "python",
   "pygments_lexer": "ipython3",
   "version": "3.8.5"
  }
 },
 "nbformat": 4,
 "nbformat_minor": 4
}
