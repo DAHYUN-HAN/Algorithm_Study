{
 "cells": [
  {
   "cell_type": "code",
   "execution_count": 43,
   "metadata": {},
   "outputs": [],
   "source": [
    "def solution(info, query):\n",
    "    answer = [0] * len(query)\n",
    "    info_list = []\n",
    "    for i in info:\n",
    "        info_list.append(i.split(' '))\n",
    "    \n",
    "    for i in range(len(query)):\n",
    "        condition = query[i].split(' ')\n",
    "        \n",
    "        for j in info_list:\n",
    "            if(condition[0] == '-' or condition[0] == j[0]):\n",
    "                if(condition[2] == '-' or condition[2] == j[1]):\n",
    "                    if(condition[4] == '-' or condition[4] == j[2]):\n",
    "                        if(condition[6] == '-' or condition[6] == j[3]):\n",
    "                            if(int(j[4]) >= int(condition[7])):\n",
    "                                answer[i] += 1\n",
    "            \n",
    "    return answer"
   ]
  },
  {
   "cell_type": "code",
   "execution_count": 44,
   "metadata": {},
   "outputs": [
    {
     "name": "stdout",
     "output_type": "stream",
     "text": [
      "java backend junior pizza 100\n",
      "['java', 'backend', 'junior', 'pizza', '150']\n",
      "python frontend senior chicken 200\n",
      "['python', 'frontend', 'senior', 'chicken', '210']\n",
      "cpp - senior pizza 250\n",
      "['cpp', 'backend', 'senior', 'pizza', '260']\n",
      "- backend senior - 150\n",
      "['cpp', 'backend', 'senior', 'pizza', '260']\n",
      "- - - chicken 100\n",
      "['python', 'frontend', 'senior', 'chicken', '210']\n",
      "['python', 'frontend', 'senior', 'chicken', '150']\n",
      "- - - - 150\n",
      "['java', 'backend', 'junior', 'pizza', '150']\n",
      "['python', 'frontend', 'senior', 'chicken', '210']\n",
      "['python', 'frontend', 'senior', 'chicken', '150']\n",
      "['cpp', 'backend', 'senior', 'pizza', '260']\n"
     ]
    },
    {
     "data": {
      "text/plain": [
       "[1, 1, 1, 1, 2, 4]"
      ]
     },
     "execution_count": 44,
     "metadata": {},
     "output_type": "execute_result"
    }
   ],
   "source": [
    "solution([\"java backend junior pizza 150\",\"python frontend senior chicken 210\",\"python frontend senior chicken 150\",\"cpp backend senior pizza 260\",\"java backend junior chicken 80\",\"python backend senior chicken 50\"], [\"java and backend and junior and pizza 100\",\"python and frontend and senior and chicken 200\",\"cpp and - and senior and pizza 250\",\"- and backend and senior and - 150\",\"- and - and - and chicken 100\",\"- and - and - and - 150\"])"
   ]
  },
  {
   "cell_type": "code",
   "execution_count": null,
   "metadata": {},
   "outputs": [],
   "source": []
  }
 ],
 "metadata": {
  "kernelspec": {
   "display_name": "Python 3",
   "language": "python",
   "name": "python3"
  },
  "language_info": {
   "codemirror_mode": {
    "name": "ipython",
    "version": 3
   },
   "file_extension": ".py",
   "mimetype": "text/x-python",
   "name": "python",
   "nbconvert_exporter": "python",
   "pygments_lexer": "ipython3",
   "version": "3.8.5"
  }
 },
 "nbformat": 4,
 "nbformat_minor": 4
}
