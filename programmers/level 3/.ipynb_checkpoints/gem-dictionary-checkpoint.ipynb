{
 "cells": [
  {
   "cell_type": "code",
   "execution_count": 131,
   "metadata": {},
   "outputs": [],
   "source": [
    "def solution(gems):\n",
    "    jewelry_list = set(gems)\n",
    "    \n",
    "    start = 0\n",
    "    end = 0\n",
    "    \n",
    "    answer_list = []\n",
    "    answer_len_list = []\n",
    "    \n",
    "    while(end != len(gems)):\n",
    "        new_list = gems[start:end+1]\n",
    "        if(jewelry_list == set(new_list)):\n",
    "            answer_list.append([start+1, end+1])\n",
    "            start += 1\n",
    "        else:\n",
    "            end += 1\n",
    "    \n",
    "    minimum = len(gems)\n",
    "    for i in range(len(answer_list)):\n",
    "        if(minimum > answer_list[i][1]-answer_list[i][0]):\n",
    "            minimum = answer_list[i][1]-answer_list[i][0]\n",
    "            index = i\n",
    "    \n",
    "    answer = answer_list[index]\n",
    "    return answer\n"
   ]
  },
  {
   "cell_type": "code",
   "execution_count": 138,
   "metadata": {},
   "outputs": [],
   "source": [
    "def solution(gems):\n",
    "    jewelry_list = set(gems)\n",
    "    \n",
    "    start = 0\n",
    "    end = 0\n",
    "    \n",
    "    temp_answer = []\n",
    "    temp_answer_len = len(gems)\n",
    "    \n",
    "    while(end != len(gems)):\n",
    "        new_list = gems[start:end+1]\n",
    "        if(jewelry_list == set(new_list)):\n",
    "            if(end-start < temp_answer_len):\n",
    "                answer = [start+1, end+1]\n",
    "                temp_answer_len = end-start\n",
    "            start += 1\n",
    "        else:\n",
    "            end += 1\n",
    "            \n",
    "    return answer\n"
   ]
  },
  {
   "cell_type": "code",
   "execution_count": 162,
   "metadata": {},
   "outputs": [],
   "source": [
    "def solution(gems):\n",
    "    gems_len = len(set(gems))\n",
    "    gems_dict = {gems[0] : 1}\n",
    "    \n",
    "    answer = [0, len(gems)]\n",
    "    start = 0\n",
    "    end = 0\n",
    "    \n",
    "    while(start < len(gems) and end < len(gems)):        \n",
    "        if (len(gems_dict) != gems_len):\n",
    "            end += 1\n",
    "            if(end == len(gems)):\n",
    "                break\n",
    "            if(gems[end] in gems_dict.keys()):\n",
    "                gems_dict[gems[end]] += 1\n",
    "            else:\n",
    "                gems_dict[gems[end]] = 1\n",
    "        \n",
    "        else:\n",
    "            if(end - start < answer[1] - answer[0]):\n",
    "                answer = [start+1, end+1]\n",
    "            else:\n",
    "                if(gems_dict[gems[start]] == 1):\n",
    "                    del gems_dict[gems[start]]\n",
    "                else:\n",
    "                    gems_dict[gems[start]] -= 1\n",
    "                \n",
    "                start += 1\n",
    "            \n",
    "    return answer\n"
   ]
  },
  {
   "cell_type": "code",
   "execution_count": 163,
   "metadata": {},
   "outputs": [
    {
     "data": {
      "text/plain": [
       "[3, 7]"
      ]
     },
     "execution_count": 163,
     "metadata": {},
     "output_type": "execute_result"
    }
   ],
   "source": [
    "solution([\"DIA\", \"RUBY\", \"RUBY\", \"DIA\", \"DIA\", \"EMERALD\", \"SAPPHIRE\", \"DIA\"])"
   ]
  },
  {
   "cell_type": "code",
   "execution_count": 164,
   "metadata": {},
   "outputs": [
    {
     "data": {
      "text/plain": [
       "[1, 3]"
      ]
     },
     "execution_count": 164,
     "metadata": {},
     "output_type": "execute_result"
    }
   ],
   "source": [
    "solution([\"AA\", \"AB\", \"AC\", \"AA\", \"AC\"])"
   ]
  },
  {
   "cell_type": "code",
   "execution_count": 165,
   "metadata": {},
   "outputs": [
    {
     "data": {
      "text/plain": [
       "[1, 1]"
      ]
     },
     "execution_count": 165,
     "metadata": {},
     "output_type": "execute_result"
    }
   ],
   "source": [
    "solution([\"XYZ\", \"XYZ\", \"XYZ\"])"
   ]
  },
  {
   "cell_type": "code",
   "execution_count": 166,
   "metadata": {},
   "outputs": [
    {
     "data": {
      "text/plain": [
       "[1, 5]"
      ]
     },
     "execution_count": 166,
     "metadata": {},
     "output_type": "execute_result"
    }
   ],
   "source": [
    "solution([\"ZZZ\", \"YYY\", \"NNNN\", \"YYY\", \"BBB\"])"
   ]
  },
  {
   "cell_type": "code",
   "execution_count": null,
   "metadata": {},
   "outputs": [],
   "source": []
  },
  {
   "cell_type": "code",
   "execution_count": null,
   "metadata": {},
   "outputs": [],
   "source": []
  }
 ],
 "metadata": {
  "kernelspec": {
   "display_name": "Python 3",
   "language": "python",
   "name": "python3"
  },
  "language_info": {
   "codemirror_mode": {
    "name": "ipython",
    "version": 3
   },
   "file_extension": ".py",
   "mimetype": "text/x-python",
   "name": "python",
   "nbconvert_exporter": "python",
   "pygments_lexer": "ipython3",
   "version": "3.8.5"
  }
 },
 "nbformat": 4,
 "nbformat_minor": 4
}
