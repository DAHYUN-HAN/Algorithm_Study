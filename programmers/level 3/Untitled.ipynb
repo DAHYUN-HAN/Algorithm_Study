{
 "cells": [
  {
   "cell_type": "code",
   "execution_count": 1,
   "metadata": {},
   "outputs": [],
   "source": [
    "import math\n",
    "\n",
    "def solution(n, stations, w):\n",
    "    answer = 0\n",
    "    \n",
    "    start = 1\n",
    "    blank_list = []\n",
    "        \n",
    "    for i in stations:\n",
    "        end = i-w-1\n",
    "        if(start <= end):\n",
    "            blank_list.append([start, end])\n",
    "        start = i+w+1\n",
    "    \n",
    "    if(start <= n):\n",
    "        blank_list.append([start, n])\n",
    "        \n",
    "    for i in blank_list:\n",
    "        length = i[1] - i[0] + 1\n",
    "        if(length <= w*2+1):\n",
    "            answer += 1\n",
    "        else:\n",
    "            answer += math.ceil(length / ((w*2+1)))\n",
    "    print(blank_list)\n",
    "        \n",
    "\n",
    "    return answer"
   ]
  }
 ],
 "metadata": {
  "kernelspec": {
   "display_name": "Python 3",
   "language": "python",
   "name": "python3"
  },
  "language_info": {
   "codemirror_mode": {
    "name": "ipython",
    "version": 3
   },
   "file_extension": ".py",
   "mimetype": "text/x-python",
   "name": "python",
   "nbconvert_exporter": "python",
   "pygments_lexer": "ipython3",
   "version": "3.8.5"
  }
 },
 "nbformat": 4,
 "nbformat_minor": 4
}
