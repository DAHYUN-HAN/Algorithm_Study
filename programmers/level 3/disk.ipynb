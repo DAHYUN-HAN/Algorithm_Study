{
 "cells": [
  {
   "cell_type": "code",
   "execution_count": 99,
   "metadata": {},
   "outputs": [],
   "source": [
    "import heapq\n",
    "\n",
    "def solution(jobs):\n",
    "    answer = 0\n",
    "    now = 0\n",
    "    length = len(jobs)\n",
    "    jobs.sort()\n",
    "    \n",
    "    while(jobs):\n",
    "        if(now >= jobs[0][0]):\n",
    "            temp = check(jobs, now)\n",
    "            print(temp)\n",
    "            start, time = heapq.heappop(temp)\n",
    "            print(temp)\n",
    "            now += time\n",
    "            answer += (now-start)\n",
    "            print(time, now, now-start)\n",
    "            jobs = temp + jobs[len(temp)+1:]\n",
    "            print(jobs)\n",
    "        else:\n",
    "            now = jobs[0][0]\n",
    "            \n",
    "    return int(answer/length)\n",
    "\n",
    "def check(jobs, now):\n",
    "    print('-=-------------')\n",
    "    temp = []\n",
    "    print(jobs)\n",
    "    for i in jobs:\n",
    "        print(now, i[0])\n",
    "        if(now >= i[0]):\n",
    "            temp.append(i)\n",
    "        else:\n",
    "            break\n",
    "            \n",
    "    temp.sort(key = lambda x : x[1])        \n",
    "    return temp"
   ]
  },
  {
   "cell_type": "code",
   "execution_count": 100,
   "metadata": {},
   "outputs": [
    {
     "name": "stdout",
     "output_type": "stream",
     "text": [
      "-=-------------\n",
      "[[0, 3], [1, 9], [2, 6]]\n",
      "0 0\n",
      "0 1\n",
      "[[0, 3]]\n",
      "[]\n",
      "3 3 3\n",
      "[[1, 9], [2, 6]]\n",
      "-=-------------\n",
      "[[1, 9], [2, 6]]\n",
      "3 1\n",
      "3 2\n",
      "[[2, 6], [1, 9]]\n",
      "[[1, 9]]\n",
      "6 9 7\n",
      "[[1, 9]]\n",
      "-=-------------\n",
      "[[1, 9]]\n",
      "9 1\n",
      "[[1, 9]]\n",
      "[]\n",
      "9 18 17\n",
      "[]\n"
     ]
    },
    {
     "data": {
      "text/plain": [
       "9"
      ]
     },
     "execution_count": 100,
     "metadata": {},
     "output_type": "execute_result"
    }
   ],
   "source": [
    "solution([[0, 3], [2, 6], [1, 9]])"
   ]
  },
  {
   "cell_type": "code",
   "execution_count": 101,
   "metadata": {},
   "outputs": [
    {
     "name": "stdout",
     "output_type": "stream",
     "text": [
      "-=-------------\n",
      "[[0, 10], [4, 10], [5, 11], [15, 2]]\n",
      "0 0\n",
      "0 4\n",
      "[[0, 10]]\n",
      "[]\n",
      "10 10 10\n",
      "[[4, 10], [5, 11], [15, 2]]\n",
      "-=-------------\n",
      "[[4, 10], [5, 11], [15, 2]]\n",
      "10 4\n",
      "10 5\n",
      "10 15\n",
      "[[4, 10], [5, 11]]\n",
      "[[5, 11]]\n",
      "10 20 16\n",
      "[[5, 11], [15, 2]]\n",
      "-=-------------\n",
      "[[5, 11], [15, 2]]\n",
      "20 5\n",
      "20 15\n",
      "[[15, 2], [5, 11]]\n",
      "[[5, 11]]\n",
      "2 22 7\n",
      "[[5, 11]]\n",
      "-=-------------\n",
      "[[5, 11]]\n",
      "22 5\n",
      "[[5, 11]]\n",
      "[]\n",
      "11 33 28\n",
      "[]\n"
     ]
    },
    {
     "data": {
      "text/plain": [
       "15"
      ]
     },
     "execution_count": 101,
     "metadata": {},
     "output_type": "execute_result"
    }
   ],
   "source": [
    "solution([[0, 10], [4, 10], [5, 11], [15, 2]])"
   ]
  },
  {
   "cell_type": "code",
   "execution_count": null,
   "metadata": {},
   "outputs": [],
   "source": []
  },
  {
   "cell_type": "code",
   "execution_count": null,
   "metadata": {},
   "outputs": [],
   "source": []
  }
 ],
 "metadata": {
  "kernelspec": {
   "display_name": "Python 3",
   "language": "python",
   "name": "python3"
  },
  "language_info": {
   "codemirror_mode": {
    "name": "ipython",
    "version": 3
   },
   "file_extension": ".py",
   "mimetype": "text/x-python",
   "name": "python",
   "nbconvert_exporter": "python",
   "pygments_lexer": "ipython3",
   "version": "3.8.5"
  }
 },
 "nbformat": 4,
 "nbformat_minor": 4
}
