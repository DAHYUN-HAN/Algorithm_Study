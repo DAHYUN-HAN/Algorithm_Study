{
 "cells": [
  {
   "cell_type": "code",
   "execution_count": 22,
   "metadata": {},
   "outputs": [],
   "source": [
    "def solution(lines):\n",
    "    if(len(lines) == 1):\n",
    "        return 1\n",
    "    \n",
    "    answer = 0\n",
    "    time_list = []\n",
    "    \n",
    "    for i in lines:\n",
    "        time = i.split(' ')\n",
    "        end = ((int(time[1][0:2]) * 3600) + (int(time[1][3:5]) * 60) + float(time[1][6:])+5)\n",
    "        start = end - float(time[2][:-1]) + 0.001\n",
    "        end = int(end*1000)\n",
    "        start = int(start*1000)\n",
    "        time_list.append([start, end])\n",
    "    time_list = sorted(time_list)\n",
    "    \n",
    "    print(time_list)\n",
    "    \n",
    "    i = time_list[0][0]\n",
    "    \n",
    "    while(True):\n",
    "        temp_answer = 0\n",
    "        \n",
    "        if(i > time_list[0][1]):\n",
    "            time_list = time_list[1:]\n",
    "            i = time_list[0][0]\n",
    "        if(len(time_list) == 1):\n",
    "            break\n",
    "        for j in time_list:\n",
    "            for k in range(1000):\n",
    "                if(i+k >= j[0] and i+k <= j[1]):\n",
    "                    temp_answer += 1\n",
    "                    break\n",
    "        if(answer < temp_answer):\n",
    "            answer = temp_answer\n",
    "            \n",
    "        i += 1\n",
    "        if(i > time_list[-1][-1]):\n",
    "            break\n",
    "            \n",
    "    return answer\n"
   ]
  },
  {
   "cell_type": "code",
   "execution_count": 23,
   "metadata": {},
   "outputs": [
    {
     "name": "stdout",
     "output_type": "stream",
     "text": [
      "[[75602053, 75603233], [75602071, 75602421], [75602500, 75603299], [75602648, 75603688], [75603180, 75604591], [75603439, 75605748], [75603999, 75605464], [75604161, 75605741], [75604447, 75607066], [75605586, 75605966]]\n"
     ]
    },
    {
     "data": {
      "text/plain": [
       "7"
      ]
     },
     "execution_count": 23,
     "metadata": {},
     "output_type": "execute_result"
    }
   ],
   "source": [
    "solution([\n",
    "'2016-09-15 20:59:57.421 0.351s',\n",
    "'2016-09-15 20:59:58.233 1.181s',\n",
    "'2016-09-15 20:59:58.299 0.8s',\n",
    "'2016-09-15 20:59:58.688 1.041s',\n",
    "'2016-09-15 20:59:59.591 1.412s',\n",
    "'2016-09-15 21:00:00.464 1.466s',\n",
    "'2016-09-15 21:00:00.741 1.581s',\n",
    "'2016-09-15 21:00:00.748 2.31s',\n",
    "'2016-09-15 21:00:00.966 0.381s',\n",
    "'2016-09-15 21:00:02.066 2.62s'\n",
    "])"
   ]
  },
  {
   "cell_type": "code",
   "execution_count": 32,
   "metadata": {},
   "outputs": [],
   "source": [
    "def solution(lines):\n",
    "    if(len(lines) == 1):\n",
    "        return 1\n",
    "    \n",
    "    answer = 0\n",
    "    time_list = []\n",
    "    \n",
    "    for i in lines:\n",
    "        time = i.split(' ')\n",
    "        end = ((int(time[1][0:2]) * 3600) + (int(time[1][3:5]) * 60) + float(time[1][6:])+5)\n",
    "        start = end - float(time[2][:-1]) + 0.001\n",
    "        end = int(end*1000)\n",
    "        start = int(start*1000)\n",
    "        time_list.append([start, end])\n",
    "    time_list = sorted(time_list)\n",
    "    \n",
    "    print(time_list)\n",
    "    \n",
    "    i = time_list[0][0]\n",
    "        \n",
    "    for i in range(time_list[0][0], time_list[-1][-1]):\n",
    "        temp_answer = 0\n",
    "        if(i > time_list[0][1]):\n",
    "            time_list = time_list[1:]\n",
    "        if(len(time_list) == 1):\n",
    "            break\n",
    "        for j in time_list:\n",
    "            for k in range(1000):\n",
    "                if(i+k >= j[0] and i+k <= j[1]):\n",
    "                    temp_answer += 1\n",
    "                    break\n",
    "            if(i > time_list[0][1]):\n",
    "                break\n",
    "        if(answer < temp_answer):\n",
    "            answer = temp_answer\n",
    "    return answer\n"
   ]
  },
  {
   "cell_type": "code",
   "execution_count": 33,
   "metadata": {},
   "outputs": [
    {
     "name": "stdout",
     "output_type": "stream",
     "text": [
      "[[75602053, 75603233], [75602071, 75602421], [75602500, 75603299], [75602648, 75603688], [75603180, 75604591], [75603439, 75605748], [75603999, 75605464], [75604161, 75605741], [75604447, 75607066], [75605586, 75605966]]\n"
     ]
    },
    {
     "data": {
      "text/plain": [
       "7"
      ]
     },
     "execution_count": 33,
     "metadata": {},
     "output_type": "execute_result"
    }
   ],
   "source": [
    "solution([\n",
    "'2016-09-15 20:59:57.421 0.351s',\n",
    "'2016-09-15 20:59:58.233 1.181s',\n",
    "'2016-09-15 20:59:58.299 0.8s',\n",
    "'2016-09-15 20:59:58.688 1.041s',\n",
    "'2016-09-15 20:59:59.591 1.412s',\n",
    "'2016-09-15 21:00:00.464 1.466s',\n",
    "'2016-09-15 21:00:00.741 1.581s',\n",
    "'2016-09-15 21:00:00.748 2.31s',\n",
    "'2016-09-15 21:00:00.966 0.381s',\n",
    "'2016-09-15 21:00:02.066 2.62s'\n",
    "])"
   ]
  },
  {
   "cell_type": "code",
   "execution_count": 19,
   "metadata": {},
   "outputs": [],
   "source": [
    "def solution(lines):\n",
    "    if(len(lines) == 1):\n",
    "        return 1\n",
    "    \n",
    "    answer = 0\n",
    "    time_list = []\n",
    "    \n",
    "    for i in lines:\n",
    "        time = i.split(' ')\n",
    "        end = ((int(time[1][0:2]) * 3600) + (int(time[1][3:5]) * 60) + float(time[1][6:])+5)\n",
    "        start = end - float(time[2][:-1]) + 0.001\n",
    "        end = int(end*1000)\n",
    "        start = int(start*1000)\n",
    "        time_list.append([start, end])\n",
    "    time_list = sorted(time_list)\n",
    "    \n",
    "    for i in time_list:\n",
    "        answer = max(answer, check(i[0], time_list), check(i[1], time_list))\n",
    "    \n",
    "    return answer\n",
    "\n",
    "def check(time, list):\n",
    "    temp_answer = 0\n",
    "    start = time\n",
    "    end = time + 1000\n",
    "    for i in list:\n",
    "        if(i[1] >= start and i[0] < end):\n",
    "            temp_answer += 1\n",
    "    return temp_answer"
   ]
  },
  {
   "cell_type": "code",
   "execution_count": 20,
   "metadata": {},
   "outputs": [
    {
     "data": {
      "text/plain": [
       "7"
      ]
     },
     "execution_count": 20,
     "metadata": {},
     "output_type": "execute_result"
    }
   ],
   "source": [
    "solution([\n",
    "'2016-09-15 20:59:57.421 0.351s',\n",
    "'2016-09-15 20:59:58.233 1.181s',\n",
    "'2016-09-15 20:59:58.299 0.8s',\n",
    "'2016-09-15 20:59:58.688 1.041s',\n",
    "'2016-09-15 20:59:59.591 1.412s',\n",
    "'2016-09-15 21:00:00.464 1.466s',\n",
    "'2016-09-15 21:00:00.741 1.581s',\n",
    "'2016-09-15 21:00:00.748 2.31s',\n",
    "'2016-09-15 21:00:00.966 0.381s',\n",
    "'2016-09-15 21:00:02.066 2.62s'\n",
    "])"
   ]
  },
  {
   "cell_type": "code",
   "execution_count": null,
   "metadata": {},
   "outputs": [],
   "source": []
  }
 ],
 "metadata": {
  "kernelspec": {
   "display_name": "Python 3",
   "language": "python",
   "name": "python3"
  },
  "language_info": {
   "codemirror_mode": {
    "name": "ipython",
    "version": 3
   },
   "file_extension": ".py",
   "mimetype": "text/x-python",
   "name": "python",
   "nbconvert_exporter": "python",
   "pygments_lexer": "ipython3",
   "version": "3.8.5"
  }
 },
 "nbformat": 4,
 "nbformat_minor": 4
}
