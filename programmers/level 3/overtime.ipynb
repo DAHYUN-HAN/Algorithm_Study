{
 "cells": [
  {
   "cell_type": "code",
   "execution_count": 11,
   "metadata": {},
   "outputs": [],
   "source": [
    "import heapq\n",
    "\n",
    "def solution(n, works):\n",
    "    answer = 0\n",
    "    heap = []\n",
    "    for i in works:\n",
    "        heapq.heappush(heap, (-i, i))\n",
    "    \n",
    "    for i in range(n):\n",
    "        now = heapq.heappop(heap)[1]\n",
    "        \n",
    "        if(now != 0):\n",
    "            new = (-(now-1), now-1)\n",
    "            heapq.heappush(heap, new)\n",
    "        else:\n",
    "            heapq.heappush(heap, (0,0))\n",
    "            \n",
    "    for i in heap:\n",
    "        answer += i[1]*i[1]\n",
    "        \n",
    "    return answer"
   ]
  },
  {
   "cell_type": "code",
   "execution_count": 12,
   "metadata": {},
   "outputs": [
    {
     "data": {
      "text/plain": [
       "12"
      ]
     },
     "execution_count": 12,
     "metadata": {},
     "output_type": "execute_result"
    }
   ],
   "source": [
    "solution(4, [4, 3, 3])"
   ]
  },
  {
   "cell_type": "code",
   "execution_count": null,
   "metadata": {},
   "outputs": [],
   "source": []
  }
 ],
 "metadata": {
  "kernelspec": {
   "display_name": "Python 3",
   "language": "python",
   "name": "python3"
  },
  "language_info": {
   "codemirror_mode": {
    "name": "ipython",
    "version": 3
   },
   "file_extension": ".py",
   "mimetype": "text/x-python",
   "name": "python",
   "nbconvert_exporter": "python",
   "pygments_lexer": "ipython3",
   "version": "3.8.5"
  }
 },
 "nbformat": 4,
 "nbformat_minor": 4
}
