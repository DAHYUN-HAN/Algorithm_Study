{
 "cells": [
  {
   "cell_type": "markdown",
   "metadata": {},
   "source": [
    "### 피보나치 수열"
   ]
  },
  {
   "cell_type": "code",
   "execution_count": 14,
   "metadata": {},
   "outputs": [
    {
     "name": "stdout",
     "output_type": "stream",
     "text": [
      "218922995834555169026\n"
     ]
    }
   ],
   "source": [
    "#한 번 계산된 결과를 Memoization하기 위한 리스트 초기화\n",
    "d= [0]*100\n",
    "\n",
    "#피보나치 함수(Fibonacci Function)를 재귀함수로 구현 (탑다운 다이나믹 프로그래밍)\n",
    "def fibo(x):\n",
    "    #종료 조건(1 혹은 2일 때 1을 반환)\n",
    "    if x == 1 or x == 2:\n",
    "        return 1\n",
    "    #이미 계산한 적 있는 문제라면 그대로 반환\n",
    "    if d[x] != 0 :\n",
    "        return d[x]\n",
    "    #아직 계산하지 않은 문제라면 점화식에 따라서 피보나치 결과 반환\n",
    "    d[x] = fibo(x-1) + fibo(x-2)\n",
    "    return d[x]\n",
    "\n",
    "print(fibo(99))"
   ]
  },
  {
   "cell_type": "markdown",
   "metadata": {},
   "source": [
    "### 실전문제 : 1로 만들기\n",
    "정수 x가 주어질 때 정수 x에 사용할 수 있는 연산은 다음과 같이 4가지 이다.\n",
    "1. x가 5로 나누어떨어지면, 5로 나눈다.\n",
    "2. x가 3으로 나누어떨어지면, 3으로 나눈다.\n",
    "3. x가 2로 나누어떨어지면, 2로 나눈다.\n",
    "4. x에서 1을 뺀다.\n",
    "\n",
    "정수 x가 주어졌을 때, 연산 4개를 적절히 사용해서 1을 만들려고 한다. 연산을 사용하는 횟우의 최솟값을 출력하라."
   ]
  },
  {
   "cell_type": "code",
   "execution_count": 16,
   "metadata": {},
   "outputs": [
    {
     "name": "stdout",
     "output_type": "stream",
     "text": [
      "3\n"
     ]
    }
   ],
   "source": [
    "def solution(x):\n",
    "    # 앞서 계산된 결과를 저장하기 위한 DP 테이블 초기화\n",
    "    d = [0] * 3001\n",
    "    \n",
    "    for i in range(2, x+1):\n",
    "        #현재의 수에서 1을 빼는 경우\n",
    "        d[i] = d[i-1] + 1\n",
    "        \n",
    "        #현재의 수가 2로 나누어 떨어지는 경우\n",
    "        if i%2 == 0:\n",
    "            d[i] = min(d[i], d[i // 2] + 1)\n",
    "        #현재의 수가 3으로 나누어 떨어지는 경우\n",
    "        if i%3 == 0:\n",
    "            d[i] = min(d[i], d[i // 3] + 1)\n",
    "        #현재의 수가 5로 나누어 떨어지는 경우\n",
    "        if i%5 == 0:\n",
    "            d[i] = min(d[i], d[i // 5] + 1)\n",
    "            \n",
    "    print(d[x])\n",
    "\n",
    "solution(26)"
   ]
  },
  {
   "cell_type": "markdown",
   "metadata": {},
   "source": [
    "### 실전문제 : 개미 전사\n",
    "개미 전사는 부족한 식량을 충당하고자 메뚜기 마을의 식량창고를 몰래 공격하려고 한다. 메뚜기 마을에는 여러 개의 식량창고가 있는데 식량창고는 일직선으로 이어져 있다. 각 식량창고에는 정해진 수의 식량을 저장하고 있으며 개미 전사는 식량창고를 선택적으로 약탈하여 식량을 빼앗을 예정이다. 이때 메뚜기 정찰병들은 일직선상에 족재하는 식량창고 중에서 서로 인접한 식량창고가 공격받으면 바로 알아챌 수 있다. 따라서 개미 전사가 정찰병에게 들키지 않고 식량창고를 약탈하기 위해서는 최소한 한 칸 이상 떨어진 식량창고를 약탈해야 한다. 개밎 전사를 위해 식량창고 N개에 대한 정보가 주어졌을 때 얻을 수 있는 식량의 최댓값을 구하는 프로그램을 작성하시오."
   ]
  },
  {
   "cell_type": "code",
   "execution_count": 21,
   "metadata": {},
   "outputs": [
    {
     "name": "stdout",
     "output_type": "stream",
     "text": [
      "8\n"
     ]
    }
   ],
   "source": [
    "def solution(n, array):\n",
    "    #앞서 계산된 결과를 저장하기 위한 DP 테이블 초기화\n",
    "    d = [0] * 100\n",
    "    \n",
    "    #다이나믹 프로그래밍 진행(보텀업)\n",
    "    d[0] = array[0]\n",
    "    d[1] = max(array[0], array[1])\n",
    "    for i in range(2, n):\n",
    "        d[i] = max(d[i-1], d[i-2] + array[i])\n",
    "        \n",
    "    print(d[n-1])\n",
    "\n",
    "solution(4, [1,3,1,5])"
   ]
  },
  {
   "cell_type": "code",
   "execution_count": 20,
   "metadata": {},
   "outputs": [
    {
     "name": "stdout",
     "output_type": "stream",
     "text": [
      "8\n"
     ]
    }
   ],
   "source": []
  },
  {
   "cell_type": "code",
   "execution_count": null,
   "metadata": {},
   "outputs": [],
   "source": []
  }
 ],
 "metadata": {
  "kernelspec": {
   "display_name": "Python 3",
   "language": "python",
   "name": "python3"
  },
  "language_info": {
   "codemirror_mode": {
    "name": "ipython",
    "version": 3
   },
   "file_extension": ".py",
   "mimetype": "text/x-python",
   "name": "python",
   "nbconvert_exporter": "python",
   "pygments_lexer": "ipython3",
   "version": "3.8.5"
  }
 },
 "nbformat": 4,
 "nbformat_minor": 4
}
